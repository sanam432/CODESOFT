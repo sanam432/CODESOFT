{
 "cells": [
  {
   "cell_type": "code",
   "execution_count": 2,
   "id": "cd633edb-372e-4d87-ad14-0d2ee33281fa",
   "metadata": {},
   "outputs": [
    {
     "name": "stdout",
     "output_type": "stream",
     "text": [
      "Select Mathematical Operation\n",
      "1. Addition\n",
      "2.Subtraction\n",
      "3.Multiplication\n",
      "4.Divison\n"
     ]
    },
    {
     "name": "stdin",
     "output_type": "stream",
     "text": [
      "Enter the choice: 1/2/3/4 1\n",
      "Enter the first number 5\n",
      "Enter the second number 3\n"
     ]
    },
    {
     "name": "stdout",
     "output_type": "stream",
     "text": [
      "5.0 + 3.0 = 8.0\n"
     ]
    },
    {
     "name": "stdin",
     "output_type": "stream",
     "text": [
      "Do you want to do further calculation(yes/no)? 2\n"
     ]
    }
   ],
   "source": [
    "# Simple calculator using python\n",
    "\n",
    "# function to add numbers\n",
    "\n",
    "def addition(x,y):\n",
    "    return x+y\n",
    "\n",
    "# function to subtract numbers\n",
    "\n",
    "def subtraction(x,y):\n",
    "    return x-y\n",
    "\n",
    "# function to multiply numbeers\n",
    "\n",
    "def multiply(x,y):\n",
    "    return x*y\n",
    "\n",
    "# function to divison numbers\n",
    "\n",
    "def divison(x,y):\n",
    "    if y == 0:\n",
    "        return \"Error! Divison by zero\"\n",
    "\n",
    "    else:\n",
    "        return x/y\n",
    "\n",
    "print(\"Select Mathematical Operation\")\n",
    "print(\"1. Addition\")\n",
    "print(\"2.Subtraction\")\n",
    "print(\"3.Multiplication\")\n",
    "print(\"4.Divison\")\n",
    "\n",
    "while True:\n",
    "    # taking input choice from user\n",
    "    choice = input(\"Enter the choice: 1/2/3/4\")\n",
    "    if choice  in  ['1','2','3','4']:\n",
    "    \n",
    "        num1 = float(input(\"Enter the first number\"))\n",
    "        num2 = float(input(\"Enter the second number\"))\n",
    "\n",
    "        if choice == '1':\n",
    "            result = addition(num1,num2)\n",
    "            print(f\"{num1} + {num2} = {result}\")\n",
    "\n",
    "        elif choice == '2':\n",
    "            result = subtraction(num1,num2)\n",
    "            print(f\"{num1} -{num2} = {result}\")\n",
    "\n",
    "        elif choice == '3':\n",
    "            result = multprint\n",
    "            print(f\"{num1} * {num2} = {result}\")\n",
    "\n",
    "        elif choice ==  '4':\n",
    "            result= divison(num1,num2)\n",
    "            print(f\"{num1} / {num2} = {result}\")\n",
    "\n",
    "    else:\n",
    "        print(\"Invalid Syntax\")\n",
    "\n",
    "\n",
    "    # Check whether the user want further calculation or not\n",
    "\n",
    "    next_calculation = input(\"Do you want to do further calculation(yes/no)?\")\n",
    "    if next_calculation.lower() != 'yes':\n",
    "        break\n",
    "\n",
    "\n",
    "\n",
    "\n",
    "        \n",
    "\n",
    "        \n",
    "    "
   ]
  },
  {
   "cell_type": "code",
   "execution_count": null,
   "id": "92b02ba8-c8b4-4846-9f50-21c2112f1d55",
   "metadata": {},
   "outputs": [],
   "source": []
  }
 ],
 "metadata": {
  "kernelspec": {
   "display_name": "Python 3 (ipykernel)",
   "language": "python",
   "name": "python3"
  },
  "language_info": {
   "codemirror_mode": {
    "name": "ipython",
    "version": 3
   },
   "file_extension": ".py",
   "mimetype": "text/x-python",
   "name": "python",
   "nbconvert_exporter": "python",
   "pygments_lexer": "ipython3",
   "version": "3.12.4"
  }
 },
 "nbformat": 4,
 "nbformat_minor": 5
}
